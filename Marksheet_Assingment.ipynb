{
 "cells": [
  {
   "cell_type": "code",
   "execution_count": 1,
   "metadata": {},
   "outputs": [
    {
     "name": "stdout",
     "output_type": "stream",
     "text": [
      "Enter subjects name: Maths\n",
      "Enter Subjects marks: 78\n",
      "Do you want to add more subjects and marks? type yes/no \n",
      "yes\n",
      "Enter subjects name: English\n",
      "Enter Subjects marks: 71\n",
      "Do you want to add more subjects and marks? type yes/no \n",
      "yes\n",
      "Enter subjects name: Physics\n",
      "Enter Subjects marks: 89\n",
      "Do you want to add more subjects and marks? type yes/no \n",
      "yes\n",
      "Enter subjects name: Chemistry\n",
      "Enter Subjects marks: 75\n",
      "Do you want to add more subjects and marks? type yes/no \n",
      "no\n",
      "\t \t \t MARKSHEET \n",
      "\n",
      "\t||\t SUBJECT \t ||\t MARKS \t ||\n",
      "\n",
      "\t||\t MATHS \t || \t 78 \t\n",
      "\n",
      "\t||\t ENGLISH \t || \t 71 \t\n",
      "\n",
      "\t||\t PHYSICS \t || \t 89 \t\n",
      "\n",
      "\t||\t CHEMISTRY \t || \t 75 \t\n",
      "\n",
      "\t \tPercentage \t \t \t \t 78.25%\n"
     ]
    }
   ],
   "source": [
    "subjects_dictionary = {}\n",
    "file_for_marksheet = \"\"\n",
    "subject_list =[]\n",
    "while True :\n",
    "    subject = input(\"Enter subjects name: \")\n",
    "    marks =input(\"Enter Subjects marks: \")\n",
    "    subject_list.append(subject)\n",
    "    subjects_dictionary[subject] = int(marks)\n",
    "    Continue = input(\"Do you want to add more subjects and marks? type yes/no \\n\")\n",
    "    if Continue.lower() == \"no\" or (Continue.lower() != \"no\" and Continue.lower() != \"yes\" ) :\n",
    "        break\n",
    "file_for_marksheet+= \"\\t \\t \\t MARKSHEET \\n\"\n",
    "file_for_marksheet+= \"\\n\\t||\\t SUBJECT \\t ||\" + \"\\t MARKS \\t ||\"\n",
    "for subjects in subjects_dictionary:\n",
    "    file_for_marksheet+= \"\\n\"\n",
    "    file_for_marksheet+= \"\\n\\t||\\t {} \\t || \\t {} \\t\".format(subjects.upper(),subjects_dictionary[subjects])\n",
    "file_for_marksheet+= \"\\n\\n\"\n",
    "file_for_marksheet+= \"\\t \\tPercentage \\t \\t \\t \\t {}%\".format(sum(subjects_dictionary.values()) * 100/(len(subjects_dictionary) *100))\n",
    "print(file_for_marksheet)\n",
    "f= open(\"MARKSHEET.txt\",\"w+\")\n",
    "f.write(file_for_marksheet)\n",
    "f.close()"
   ]
  },
  {
   "cell_type": "code",
   "execution_count": null,
   "metadata": {},
   "outputs": [],
   "source": []
  }
 ],
 "metadata": {
  "kernelspec": {
   "display_name": "Python 3",
   "language": "python",
   "name": "python3"
  },
  "language_info": {
   "codemirror_mode": {
    "name": "ipython",
    "version": 3
   },
   "file_extension": ".py",
   "mimetype": "text/x-python",
   "name": "python",
   "nbconvert_exporter": "python",
   "pygments_lexer": "ipython3",
   "version": "3.7.3"
  }
 },
 "nbformat": 4,
 "nbformat_minor": 2
}
